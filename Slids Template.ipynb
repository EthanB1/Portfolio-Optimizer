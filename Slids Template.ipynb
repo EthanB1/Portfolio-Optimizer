{
 "cells": [
  {
   "cell_type": "code",
   "execution_count": null,
   "id": "b8ebcd40-3920-474e-9ddf-e0d94582429a",
   "metadata": {},
   "outputs": [],
   "source": [
    "#Executive Summary \n",
    "Goals -\n",
    "Goals -\n",
    "Project object is to find a tool which would provide user invest their funds to get best return and at the same time \n",
    "keep their money safe. \n",
    "Use the most advanced technology which is both user freindly and cost effective \n",
    "Keep factors like, cost, return, transperancy, adhereance to compliances in place\n",
    "\n",
    "Challenges -\n",
    "Determine who the users \n",
    "Accordingly users are selected in 3 age bracketsHow to get suitable portfolio options; we thought best portfolio \n",
    "should be diversidied \n",
    "\n",
    "Limitations -\n",
    "Even with best efforts there could be limitations on our projections since these are based on estimates using \n",
    "statistical tools like Monte Carlo simulation \n",
    "\n",
    "\n"
   ]
  },
  {
   "cell_type": "code",
   "execution_count": null,
   "id": "f0604aee-c92c-4dc7-8c7f-ec941e45d3d9",
   "metadata": {},
   "outputs": [],
   "source": [
    "# Approach \n",
    "Technologies used\n",
    "Breakdown of tasks and roles -\n",
    "Challenges\n",
    "Successes"
   ]
  },
  {
   "cell_type": "code",
   "execution_count": null,
   "id": "875261c3-e276-4a95-9c43-97d3de0e5edb",
   "metadata": {},
   "outputs": [],
   "source": [
    "Technologies used -\n",
    "Pandas, Strealit, PyGWalker, Scipy "
   ]
  },
  {
   "cell_type": "code",
   "execution_count": null,
   "id": "91f2fe37-8815-43aa-84e5-92c25d297604",
   "metadata": {},
   "outputs": [],
   "source": [
    "Breakdown of tasks and roles -\n",
    "Scott -\n",
    "Project description - an analysis through different life stages, and how to give them optimal advice for their specific financial future\n",
    "Amar - Plan Outline - recommending portfolio - Dataframe for 1st cat i.e. age group 18 - 30\n",
    "Kala - Presentation Dashboard and support to Scott - Dataframe for 3rd cat - i.e. age group 45 - 60\n",
    "Ethan - Financial simulation - dataframe for age group - 30 - 45"
   ]
  },
  {
   "cell_type": "code",
   "execution_count": null,
   "id": "20045e7f-b977-4e17-a58c-3937ef4943e3",
   "metadata": {},
   "outputs": [],
   "source": [
    "Challenges -\n",
    "Finding best source to obtain suitable portfolio \n",
    "Best way for presenting interactive graphs \n",
    "User friendlyness \n"
   ]
  },
  {
   "cell_type": "code",
   "execution_count": null,
   "id": "0e2fb9ac-10c2-48b5-a3cd-0bbb90029166",
   "metadata": {},
   "outputs": [],
   "source": [
    "Successes - \n"
   ]
  }
 ],
 "metadata": {
  "kernelspec": {
   "display_name": "Python 3 (ipykernel)",
   "language": "python",
   "name": "python3"
  },
  "language_info": {
   "codemirror_mode": {
    "name": "ipython",
    "version": 3
   },
   "file_extension": ".py",
   "mimetype": "text/x-python",
   "name": "python",
   "nbconvert_exporter": "python",
   "pygments_lexer": "ipython3",
   "version": "3.10.9"
  }
 },
 "nbformat": 4,
 "nbformat_minor": 5
}
