{
 "cells": [
  {
   "cell_type": "code",
   "execution_count": 24,
   "id": "92930ca1-60f2-41ea-bd0e-6539ba2f205f",
   "metadata": {},
   "outputs": [],
   "source": [
    "import yfinance as yf\n",
    "import pandas as pd\n",
    "from datetime import datetime, timedelta\n",
    "import numpy as np\n",
    "from scipy.optimize import minimize\n",
    "import seaborn as sns\n",
    "import matplotlib.pyplot as plt\n",
    "import pygwalker as pyg \n",
    "import os\n",
    "import requests\n",
    "import alpaca_trade_api as tradeapi\n",
    "from dotenv import load_dotenv"
   ]
  },
  {
   "cell_type": "code",
   "execution_count": 25,
   "id": "c934c8ea-40fe-4289-8cc7-05ca408e5083",
   "metadata": {},
   "outputs": [],
   "source": [
    "#Set tickers\n",
    "tickers = ['XIC','VTI','IEFA','IEMG']\n",
    "\n",
    "timeframe = \"1Day\""
   ]
  },
  {
   "cell_type": "code",
   "execution_count": 43,
   "id": "4fb26a4d-4a40-4e91-9098-bba2d1710076",
   "metadata": {},
   "outputs": [],
   "source": [
    "end_date = datetime.today()\n",
    "start_date = end_date - timedelta(days = 10*365)"
   ]
  },
  {
   "cell_type": "code",
   "execution_count": 44,
   "id": "8853190b-5cdb-4c2a-a811-24ae1ab5d84f",
   "metadata": {},
   "outputs": [],
   "source": [
    "adj_close_df = pd.DataFrame()"
   ]
  },
  {
   "cell_type": "code",
   "execution_count": 45,
   "id": "d4e2948b-6d14-4769-8449-b0eea32dbb36",
   "metadata": {},
   "outputs": [
    {
     "name": "stdout",
     "output_type": "stream",
     "text": [
      "[*********************100%***********************]  1 of 1 completed\n",
      "[*********************100%***********************]  1 of 1 completed\n",
      "[*********************100%***********************]  1 of 1 completed\n",
      "[*********************100%***********************]  1 of 1 completed\n"
     ]
    }
   ],
   "source": [
    "for ticker in tickers:\n",
    "    data = yf.download(ticker, start = start_date,end = end_date)\n",
    "    adj_close_df[ticker] = data['Close']"
   ]
  },
  {
   "cell_type": "code",
   "execution_count": 46,
   "id": "b802248e-e7a7-46c7-8b5d-037524359ddb",
   "metadata": {},
   "outputs": [
    {
     "data": {
      "text/html": [
       "<div>\n",
       "<style scoped>\n",
       "    .dataframe tbody tr th:only-of-type {\n",
       "        vertical-align: middle;\n",
       "    }\n",
       "\n",
       "    .dataframe tbody tr th {\n",
       "        vertical-align: top;\n",
       "    }\n",
       "\n",
       "    .dataframe thead th {\n",
       "        text-align: right;\n",
       "    }\n",
       "</style>\n",
       "<table border=\"1\" class=\"dataframe\">\n",
       "  <thead>\n",
       "    <tr style=\"text-align: right;\">\n",
       "      <th></th>\n",
       "      <th>XIC</th>\n",
       "      <th>VTI</th>\n",
       "      <th>IEFA</th>\n",
       "      <th>IEMG</th>\n",
       "    </tr>\n",
       "    <tr>\n",
       "      <th>Date</th>\n",
       "      <th></th>\n",
       "      <th></th>\n",
       "      <th></th>\n",
       "      <th></th>\n",
       "    </tr>\n",
       "  </thead>\n",
       "  <tbody>\n",
       "    <tr>\n",
       "      <th>2013-12-16</th>\n",
       "      <td>NaN</td>\n",
       "      <td>NaN</td>\n",
       "      <td>NaN</td>\n",
       "      <td>NaN</td>\n",
       "    </tr>\n",
       "    <tr>\n",
       "      <th>2014-07-15</th>\n",
       "      <td>-0.007299</td>\n",
       "      <td>0.090897</td>\n",
       "      <td>0.053275</td>\n",
       "      <td>0.070253</td>\n",
       "    </tr>\n",
       "    <tr>\n",
       "      <th>2014-07-16</th>\n",
       "      <td>0.035975</td>\n",
       "      <td>0.002547</td>\n",
       "      <td>0.005981</td>\n",
       "      <td>0.002838</td>\n",
       "    </tr>\n",
       "    <tr>\n",
       "      <th>2014-07-17</th>\n",
       "      <td>0.041528</td>\n",
       "      <td>-0.011610</td>\n",
       "      <td>-0.011998</td>\n",
       "      <td>-0.018115</td>\n",
       "    </tr>\n",
       "    <tr>\n",
       "      <th>2014-07-18</th>\n",
       "      <td>-0.045068</td>\n",
       "      <td>0.010729</td>\n",
       "      <td>0.007151</td>\n",
       "      <td>0.015087</td>\n",
       "    </tr>\n",
       "    <tr>\n",
       "      <th>...</th>\n",
       "      <td>...</td>\n",
       "      <td>...</td>\n",
       "      <td>...</td>\n",
       "      <td>...</td>\n",
       "    </tr>\n",
       "    <tr>\n",
       "      <th>2017-02-08</th>\n",
       "      <td>-0.105361</td>\n",
       "      <td>0.001100</td>\n",
       "      <td>0.002339</td>\n",
       "      <td>0.007011</td>\n",
       "    </tr>\n",
       "    <tr>\n",
       "      <th>2017-02-09</th>\n",
       "      <td>0.105361</td>\n",
       "      <td>0.006574</td>\n",
       "      <td>0.002871</td>\n",
       "      <td>0.004140</td>\n",
       "    </tr>\n",
       "    <tr>\n",
       "      <th>2017-02-10</th>\n",
       "      <td>-0.166886</td>\n",
       "      <td>0.004191</td>\n",
       "      <td>0.002863</td>\n",
       "      <td>0.007366</td>\n",
       "    </tr>\n",
       "    <tr>\n",
       "      <th>2017-03-10</th>\n",
       "      <td>-0.006586</td>\n",
       "      <td>0.020698</td>\n",
       "      <td>0.015075</td>\n",
       "      <td>-0.003893</td>\n",
       "    </tr>\n",
       "    <tr>\n",
       "      <th>2017-03-13</th>\n",
       "      <td>0.124126</td>\n",
       "      <td>0.000737</td>\n",
       "      <td>0.004391</td>\n",
       "      <td>0.013131</td>\n",
       "    </tr>\n",
       "  </tbody>\n",
       "</table>\n",
       "<p>282 rows × 4 columns</p>\n",
       "</div>"
      ],
      "text/plain": [
       "                 XIC       VTI      IEFA      IEMG\n",
       "Date                                              \n",
       "2013-12-16       NaN       NaN       NaN       NaN\n",
       "2014-07-15 -0.007299  0.090897  0.053275  0.070253\n",
       "2014-07-16  0.035975  0.002547  0.005981  0.002838\n",
       "2014-07-17  0.041528 -0.011610 -0.011998 -0.018115\n",
       "2014-07-18 -0.045068  0.010729  0.007151  0.015087\n",
       "...              ...       ...       ...       ...\n",
       "2017-02-08 -0.105361  0.001100  0.002339  0.007011\n",
       "2017-02-09  0.105361  0.006574  0.002871  0.004140\n",
       "2017-02-10 -0.166886  0.004191  0.002863  0.007366\n",
       "2017-03-10 -0.006586  0.020698  0.015075 -0.003893\n",
       "2017-03-13  0.124126  0.000737  0.004391  0.013131\n",
       "\n",
       "[282 rows x 4 columns]"
      ]
     },
     "execution_count": 46,
     "metadata": {},
     "output_type": "execute_result"
    }
   ],
   "source": [
    "log_returns = np.log(adj_close_df / adj_close_df.shift(1))\n",
    "log_returns"
   ]
  },
  {
   "cell_type": "code",
   "execution_count": 47,
   "id": "87b5ac0e-6eb5-4e1c-ae98-069d6301c8c3",
   "metadata": {},
   "outputs": [
    {
     "data": {
      "text/html": [
       "<div>\n",
       "<style scoped>\n",
       "    .dataframe tbody tr th:only-of-type {\n",
       "        vertical-align: middle;\n",
       "    }\n",
       "\n",
       "    .dataframe tbody tr th {\n",
       "        vertical-align: top;\n",
       "    }\n",
       "\n",
       "    .dataframe thead th {\n",
       "        text-align: right;\n",
       "    }\n",
       "</style>\n",
       "<table border=\"1\" class=\"dataframe\">\n",
       "  <thead>\n",
       "    <tr style=\"text-align: right;\">\n",
       "      <th></th>\n",
       "      <th>XIC</th>\n",
       "      <th>VTI</th>\n",
       "      <th>IEFA</th>\n",
       "      <th>IEMG</th>\n",
       "    </tr>\n",
       "    <tr>\n",
       "      <th>Date</th>\n",
       "      <th></th>\n",
       "      <th></th>\n",
       "      <th></th>\n",
       "      <th></th>\n",
       "    </tr>\n",
       "  </thead>\n",
       "  <tbody>\n",
       "    <tr>\n",
       "      <th>2014-07-15</th>\n",
       "      <td>-0.007299</td>\n",
       "      <td>0.090897</td>\n",
       "      <td>0.053275</td>\n",
       "      <td>0.070253</td>\n",
       "    </tr>\n",
       "    <tr>\n",
       "      <th>2014-07-16</th>\n",
       "      <td>0.035975</td>\n",
       "      <td>0.002547</td>\n",
       "      <td>0.005981</td>\n",
       "      <td>0.002838</td>\n",
       "    </tr>\n",
       "    <tr>\n",
       "      <th>2014-07-17</th>\n",
       "      <td>0.041528</td>\n",
       "      <td>-0.011610</td>\n",
       "      <td>-0.011998</td>\n",
       "      <td>-0.018115</td>\n",
       "    </tr>\n",
       "    <tr>\n",
       "      <th>2014-07-18</th>\n",
       "      <td>-0.045068</td>\n",
       "      <td>0.010729</td>\n",
       "      <td>0.007151</td>\n",
       "      <td>0.015087</td>\n",
       "    </tr>\n",
       "    <tr>\n",
       "      <th>2014-07-21</th>\n",
       "      <td>0.045068</td>\n",
       "      <td>-0.002352</td>\n",
       "      <td>-0.003407</td>\n",
       "      <td>0.003217</td>\n",
       "    </tr>\n",
       "    <tr>\n",
       "      <th>...</th>\n",
       "      <td>...</td>\n",
       "      <td>...</td>\n",
       "      <td>...</td>\n",
       "      <td>...</td>\n",
       "    </tr>\n",
       "    <tr>\n",
       "      <th>2017-02-08</th>\n",
       "      <td>-0.105361</td>\n",
       "      <td>0.001100</td>\n",
       "      <td>0.002339</td>\n",
       "      <td>0.007011</td>\n",
       "    </tr>\n",
       "    <tr>\n",
       "      <th>2017-02-09</th>\n",
       "      <td>0.105361</td>\n",
       "      <td>0.006574</td>\n",
       "      <td>0.002871</td>\n",
       "      <td>0.004140</td>\n",
       "    </tr>\n",
       "    <tr>\n",
       "      <th>2017-02-10</th>\n",
       "      <td>-0.166886</td>\n",
       "      <td>0.004191</td>\n",
       "      <td>0.002863</td>\n",
       "      <td>0.007366</td>\n",
       "    </tr>\n",
       "    <tr>\n",
       "      <th>2017-03-10</th>\n",
       "      <td>-0.006586</td>\n",
       "      <td>0.020698</td>\n",
       "      <td>0.015075</td>\n",
       "      <td>-0.003893</td>\n",
       "    </tr>\n",
       "    <tr>\n",
       "      <th>2017-03-13</th>\n",
       "      <td>0.124126</td>\n",
       "      <td>0.000737</td>\n",
       "      <td>0.004391</td>\n",
       "      <td>0.013131</td>\n",
       "    </tr>\n",
       "  </tbody>\n",
       "</table>\n",
       "<p>281 rows × 4 columns</p>\n",
       "</div>"
      ],
      "text/plain": [
       "                 XIC       VTI      IEFA      IEMG\n",
       "Date                                              \n",
       "2014-07-15 -0.007299  0.090897  0.053275  0.070253\n",
       "2014-07-16  0.035975  0.002547  0.005981  0.002838\n",
       "2014-07-17  0.041528 -0.011610 -0.011998 -0.018115\n",
       "2014-07-18 -0.045068  0.010729  0.007151  0.015087\n",
       "2014-07-21  0.045068 -0.002352 -0.003407  0.003217\n",
       "...              ...       ...       ...       ...\n",
       "2017-02-08 -0.105361  0.001100  0.002339  0.007011\n",
       "2017-02-09  0.105361  0.006574  0.002871  0.004140\n",
       "2017-02-10 -0.166886  0.004191  0.002863  0.007366\n",
       "2017-03-10 -0.006586  0.020698  0.015075 -0.003893\n",
       "2017-03-13  0.124126  0.000737  0.004391  0.013131\n",
       "\n",
       "[281 rows x 4 columns]"
      ]
     },
     "execution_count": 47,
     "metadata": {},
     "output_type": "execute_result"
    }
   ],
   "source": [
    "log_returns = log_returns.dropna()\n",
    "log_returns"
   ]
  },
  {
   "cell_type": "code",
   "execution_count": 48,
   "id": "26e4a200-3eeb-4732-ba5d-add40cd4cd21",
   "metadata": {},
   "outputs": [],
   "source": [
    "cov_matrix = log_returns.cov() * 252"
   ]
  },
  {
   "cell_type": "code",
   "execution_count": 49,
   "id": "0db8d3be-1df4-477a-920c-207acdb64e45",
   "metadata": {},
   "outputs": [
    {
     "data": {
      "text/plain": [
       "<Axes: >"
      ]
     },
     "execution_count": 49,
     "metadata": {},
     "output_type": "execute_result"
    },
    {
     "data": {
      "image/png": "[encoded data removed]",
      "text/plain": [
       "<Figure size 640x480 with 2 Axes>"
      ]
     },
     "metadata": {},
     "output_type": "display_data"
    }
   ],
   "source": [
    "sns.heatmap(log_returns.corr())"
   ]
  },
  {
   "cell_type": "code",
   "execution_count": 50,
   "id": "cd171a70-1167-4457-823b-9de8fce7c136",
   "metadata": {},
   "outputs": [],
   "source": [
    "def standard_deviation(weights, cov_matrix):\n",
    "    variance = weights.T @ cov_matrix.T @ weights\n",
    "    return np.sqrt(variance)"
   ]
  },
  {
   "cell_type": "code",
   "execution_count": 51,
   "id": "33f31c13-bae3-4924-9e57-3f9cc07eeae9",
   "metadata": {},
   "outputs": [],
   "source": [
    "def expected_returns(weights, log_returns):\n",
    "    return np.sum(log_returns.mean()*weights)*252"
   ]
  },
  {
   "cell_type": "code",
   "execution_count": 52,
   "id": "d3df2f80-dc2c-498a-934f-a59e2edf3a06",
   "metadata": {},
   "outputs": [],
   "source": [
    "#Calculate sharpe ratio\n",
    "def sharpe_ratio(weights, log_returns,cov_matrix,risk_free_rate):\n",
    "    return (expected_returns(weights,log_returns)-risk_free_rate) / standard_deviation(weights,cov_matrix)"
   ]
  },
  {
   "cell_type": "code",
   "execution_count": 53,
   "id": "a664a5fb-f815-4a6c-b695-88bb95499990",
   "metadata": {},
   "outputs": [],
   "source": [
    "from fredapi import Fred\n",
    "\n",
    "fred = Fred(api_key='a62f6d565da2a028f9270c3dcf89f194')\n",
    "\n",
    "ten_year_treasurey_rate = fred.get_series_latest_release('GS10')/100"
   ]
  },
  {
   "cell_type": "code",
   "execution_count": 54,
   "id": "3ae47106-f0f0-4e47-b5cb-dffac8a71399",
   "metadata": {},
   "outputs": [
    {
     "name": "stdout",
     "output_type": "stream",
     "text": [
      "0.0375\n"
     ]
    }
   ],
   "source": [
    "risk_free_rate = ten_year_treasurey_rate.iloc[-1]\n",
    "print(risk_free_rate)"
   ]
  },
  {
   "cell_type": "code",
   "execution_count": 55,
   "id": "5e145793-9794-4b7e-85af-e8cb4218bcd7",
   "metadata": {},
   "outputs": [],
   "source": [
    "def neg_sharpe_ratio(weights, log_returns, cov_matrix, risk_free_rate):\n",
    "    return -sharpe_ratio(weights, log_returns, cov_matrix, risk_free_rate)"
   ]
  },
  {
   "cell_type": "code",
   "execution_count": 60,
   "id": "efaa43e9-467c-4897-bca3-0c059863edd8",
   "metadata": {},
   "outputs": [],
   "source": [
    "#set constraints and bounds\n",
    "constraints = {'type':'eq','fun':lambda weights:np.sum(weights)-1}\n",
    "\n",
    "bounds = [(0,0.4) for _ in range(len(tickers))]"
   ]
  },
  {
   "cell_type": "code",
   "execution_count": 61,
   "id": "db5c4bed-a62c-4549-9616-d5e27e022e51",
   "metadata": {},
   "outputs": [],
   "source": [
    "initial_weights = np.array([1/len(tickers)]*len(tickers))\n"
   ]
  },
  {
   "cell_type": "code",
   "execution_count": 62,
   "id": "d710a002-6386-4944-9a6e-118fa1e0b65a",
   "metadata": {},
   "outputs": [],
   "source": [
    "#optimize the weights to maximize sharpe ratio\n",
    "optimized_results = minimize(neg_sharpe_ratio, initial_weights, args=(log_returns, cov_matrix, risk_free_rate), method='SLSQP', constraints=constraints, bounds=bounds)\n",
    "optimal_weights = optimized_results.x"
   ]
  },
  {
   "cell_type": "code",
   "execution_count": 63,
   "id": "da72f100-843e-4865-840d-1365e18a505f",
   "metadata": {},
   "outputs": [
    {
     "name": "stdout",
     "output_type": "stream",
     "text": [
      "Optimal Weights:\n",
      "XIC: 0.4000\n",
      "VTI: 0.4000\n",
      "IEFA: 0.2000\n",
      "IEMG: 0.0000\n",
      "Expected Annual Return: 0.3173\n",
      "Expected Volatility: 0.4192\n",
      "Sharpe Ratio: 0.6674\n"
     ]
    }
   ],
   "source": [
    "optimal_weights = optimized_results.x\n",
    "\n",
    "print(\"Optimal Weights:\")\n",
    "for ticker, weight in zip(tickers, optimal_weights):\n",
    "    print(f\"{ticker}: {weight:.4f}\")\n",
    "\n",
    "optimal_portfolio_return = expected_returns(optimal_weights, log_returns)\n",
    "optimal_portfolio_volatility = standard_deviation(optimal_weights, cov_matrix)\n",
    "optimal_sharpe_ratio = sharpe_ratio(optimal_weights, log_returns, cov_matrix, risk_free_rate)\n",
    "\n",
    "print(f\"Expected Annual Return: {optimal_portfolio_return:.4f}\")\n",
    "print(f\"Expected Volatility: {optimal_portfolio_volatility:.4f}\")\n",
    "print(f\"Sharpe Ratio: {optimal_sharpe_ratio:.4f}\")"
   ]
  },
  {
   "cell_type": "code",
   "execution_count": null,
   "id": "6823f020-804f-4230-81a7-01c9a07c9c84",
   "metadata": {},
   "outputs": [],
   "source": []
  },
  {
   "cell_type": "code",
   "execution_count": null,
   "id": "49191f1b-bdac-4667-bf97-a63f7ad31177",
   "metadata": {},
   "outputs": [],
   "source": []
  }
 ],
 "metadata": {
  "kernelspec": {
   "display_name": "Python 3 (ipykernel)",
   "language": "python",
   "name": "python3"
  },
  "language_info": {
   "codemirror_mode": {
    "name": "ipython",
    "version": 3
   },
   "file_extension": ".py",
   "mimetype": "text/x-python",
   "name": "python",
   "nbconvert_exporter": "python",
   "pygments_lexer": "ipython3",
   "version": "3.10.11"
  }
 },
 "nbformat": 4,
 "nbformat_minor": 5
}
